{
 "cells": [
  {
   "cell_type": "code",
   "execution_count": 1,
   "metadata": {
    "collapsed": true
   },
   "outputs": [],
   "source": [
    "import attk"
   ]
  },
  {
   "cell_type": "code",
   "execution_count": 2,
   "metadata": {},
   "outputs": [
    {
     "data": {
      "text/plain": [
       "'/sharedfolder/Jean Shepherd repository'"
      ]
     },
     "execution_count": 2,
     "metadata": {},
     "output_type": "execute_result"
    }
   ],
   "source": [
    "import os\n",
    "os.getcwd()"
   ]
  },
  {
   "cell_type": "code",
   "execution_count": 3,
   "metadata": {
    "collapsed": true
   },
   "outputs": [],
   "source": [
    "paths = attk.find_media_paths('./')"
   ]
  },
  {
   "cell_type": "code",
   "execution_count": 4,
   "metadata": {},
   "outputs": [
    {
     "data": {
      "text/plain": [
       "['./Shep-mixcloud/Jean Shepherd 1967 07 19 Failure Factor-shep-a-day-jean-shepherd-1967-07-19-failure-factor.mp3',\n",
       " './Jean_Shepherd_from_Archive.org/102714_201511/10-27-14.mp3',\n",
       " './Jean_Shepherd_from_Archive.org/1953_01_23_Radio.mp3/19530123Radio.mp3',\n",
       " './Jean_Shepherd_from_Archive.org/1958_Peopletropic_fragment.mp3/1958Peopletropicfragment.mp3',\n",
       " './Jean_Shepherd_from_Archive.org/1957_06_16.mp3_2/19570616.mp3',\n",
       " './Jean_Shepherd_from_Archive.org/1958_Technicolor_fragment.mp3/1958Technicolorfragment.mp3',\n",
       " './Jean_Shepherd_from_Archive.org/1959_05_XX_B.mp3/195905XXB.mp3',\n",
       " './Jean_Shepherd_from_Archive.org/19670704JeanShepherdLudlowKisselAndTheDagoBombThatStruckBackWOR/1967-07-04_Jean-Shepherd_Ludlow-Kissel-And-The-Dago-Bomb-That-Struck-Back_WOR.mp3',\n",
       " './Jean_Shepherd_from_Archive.org/aChristmasStoryOnStageAtChattanoogaTheatreCentre/AChristmasStory_mixdown.mp3',\n",
       " './Jean_Shepherd_from_Archive.org/Artchatpodcast045/artchatpodcast-045.mp3']"
      ]
     },
     "execution_count": 4,
     "metadata": {},
     "output_type": "execute_result"
    }
   ],
   "source": [
    "paths[:10]"
   ]
  },
  {
   "cell_type": "code",
   "execution_count": 5,
   "metadata": {},
   "outputs": [
    {
     "data": {
      "text/plain": [
       "['Jean Shepherd 1967 07 19 Failure Factor-shep-a-day-jean-shepherd-1967-07-19-failure-factor.mp3',\n",
       " '10-27-14.mp3',\n",
       " '19530123Radio.mp3',\n",
       " '1958Peopletropicfragment.mp3',\n",
       " '19570616.mp3',\n",
       " '1958Technicolorfragment.mp3',\n",
       " '195905XXB.mp3',\n",
       " '1967-07-04_Jean-Shepherd_Ludlow-Kissel-And-The-Dago-Bomb-That-Struck-Back_WOR.mp3',\n",
       " 'AChristmasStory_mixdown.mp3',\n",
       " 'artchatpodcast-045.mp3']"
      ]
     },
     "execution_count": 5,
     "metadata": {},
     "output_type": "execute_result"
    }
   ],
   "source": [
    "filenames = [item.split('/')[-1] for item in paths]\n",
    "\n",
    "filenames[:10]"
   ]
  },
  {
   "cell_type": "code",
   "execution_count": 6,
   "metadata": {
    "collapsed": true
   },
   "outputs": [],
   "source": [
    "filenames = list(set(filenames))"
   ]
  },
  {
   "cell_type": "code",
   "execution_count": 7,
   "metadata": {
    "collapsed": true
   },
   "outputs": [],
   "source": [
    "#with open('my_filenames.txt','w') as fo:\n",
    "#    for nn in filenames:\n",
    "#        fo.write(nn)\n",
    "#        fo.write('\\n')"
   ]
  },
  {
   "cell_type": "code",
   "execution_count": 8,
   "metadata": {},
   "outputs": [
    {
     "data": {
      "text/plain": [
       "1659"
      ]
     },
     "execution_count": 8,
     "metadata": {},
     "output_type": "execute_result"
    }
   ],
   "source": [
    "len(filenames)"
   ]
  },
  {
   "cell_type": "code",
   "execution_count": 9,
   "metadata": {},
   "outputs": [
    {
     "data": {
      "text/plain": [
       "['1976_12_xx_Army_Joke_edit.mp3',\n",
       " '1976_or_1977_1897_Sears_Catalog.mp3',\n",
       " '1964_09_15_Worlds_Fair_excerpt.mp3',\n",
       " '1969_09_22_Stripes.mp3',\n",
       " '1967_01_13_Friday_the_13th_clipped.mp3',\n",
       " '1963 11 25.mp3',\n",
       " '1964_Kids_As_Gods.mp3',\n",
       " '1963-04-09_097_Imponderables.mp3',\n",
       " '1966 07 28 Style.mp3',\n",
       " '1972_11_13_The_Shocking_Truth_About_Figs.mp3']"
      ]
     },
     "execution_count": 9,
     "metadata": {},
     "output_type": "execute_result"
    }
   ],
   "source": [
    "import random\n",
    "random.sample(filenames,10)"
   ]
  },
  {
   "cell_type": "code",
   "execution_count": 10,
   "metadata": {},
   "outputs": [
    {
     "name": "stdout",
     "output_type": "stream",
     "text": [
      "@eaDir\t\t\t\t\t      Shep-mixcloud\r\n",
      "Jean Shepherd Show Listing and Checklist.pdf  Show_Summaries.xls\r\n",
      "Jean_Shepherd_FlickLives_mp3_scrape_20170822  Shows_with_filenames.csv\r\n",
      "Jean_Shepherd_from_Archive.org\t\t      WOR Radio\r\n",
      "Shep Date parser.ipynb\t\t\t      my_filenames.txt\r\n"
     ]
    }
   ],
   "source": [
    "!ls"
   ]
  },
  {
   "cell_type": "code",
   "execution_count": 11,
   "metadata": {},
   "outputs": [
    {
     "name": "stdout",
     "output_type": "stream",
     "text": [
      "Requirement already satisfied: xlrd in /usr/local/lib/python2.7/dist-packages\r\n"
     ]
    }
   ],
   "source": [
    "!pip install xlrd"
   ]
  },
  {
   "cell_type": "code",
   "execution_count": 12,
   "metadata": {
    "collapsed": true
   },
   "outputs": [],
   "source": [
    "import pandas as pd\n",
    "\n",
    "meta_table = pd.read_excel('Show_Summaries.xls')"
   ]
  },
  {
   "cell_type": "code",
   "execution_count": 13,
   "metadata": {},
   "outputs": [
    {
     "name": "stdout",
     "output_type": "stream",
     "text": [
      "Possibly July 1959\n",
      "Apr/May 1959\n",
      "Apr/May 1959\n",
      "Summer 1960\n",
      "1960or 1961\n",
      "August 5, 1963 (Est)\n",
      "1963 (Summer)\n",
      "1963 (Summer)\n",
      "1963 (Summer)\n",
      "1963 (Summer)\n",
      "1963 (Summer)\n",
      "Unknown\n",
      "Unknown\n",
      "Unknown\n",
      "Unknown\n",
      "Unknown\n",
      "Unknown\n",
      "Unknown\n",
      "Unknown\n",
      "Unknown\n",
      "Unknown\n",
      "Unknown\n",
      "November 7, 1966 (w/o)\n",
      "Unknown\n",
      "Unknown\n",
      "Unknown\n",
      "Unknown\n",
      "Unknown\n",
      "Unknown\n",
      "Unknown\n",
      "Unknown\n",
      "Unknown\n",
      "Unknown\n",
      "Unknown\n",
      "Unknown\n",
      "Unknown\n",
      "Unknown\n",
      "Unknown\n",
      "Unknown\n",
      "Unknown\n",
      "Unknown\n",
      "Unknown\n",
      "Unknown\n",
      "Unknown\n",
      "Unknown\n",
      "January 22,23 or 24 1968\n",
      "Apr/May 1968\n",
      "Unknown\n",
      "June 23 or 24 1970\n",
      "1970 (Fall)\n",
      "1970 (Fall)\n",
      "1971 (Summer)\n",
      "1971 (Summer)\n",
      "July 7, 1972 (?)\n",
      "August 1, 1972 (?)\n",
      "August 4, 1972 (?)\n",
      "August 22, 1972 (?)\n",
      "September 4, 1972 (?)\n",
      "September 6, 1972 (?)\n",
      "September 8, 1972 (?)\n",
      "Unknown\n",
      "Unknown\n",
      "Unknown\n",
      "Unknown\n",
      "Unknown\n",
      "Unknown\n",
      "Unknown\n",
      "Unknown\n",
      "Unknown\n",
      "Unknown\n",
      "Unknown\n",
      "Unknown\n",
      "Unknown\n",
      "Unknown\n",
      "Unknown\n",
      "Unknown\n",
      "Unknown\n",
      "Unknown\n",
      "Unknown\n",
      "Unknown\n",
      "Unknown\n",
      "Unknown\n",
      "Unknown\n",
      "Unknown\n",
      "Unknown\n",
      "Unknown\n",
      "Unknown\n",
      "Unknown\n",
      "Unknown\n",
      "Unknown\n",
      "Unknown\n",
      "Unknown\n",
      "Unknown\n",
      "Unknown\n",
      "Unknown\n",
      "Unknown\n",
      "Unknown\n",
      "Unknown\n",
      "Unknown\n",
      "Unknown\n",
      "Unknown\n",
      "Unknown\n",
      "Unknown\n",
      "Unknown\n",
      "Unknown\n",
      "Unknown\n",
      "Unknown\n",
      "Unknown\n",
      "Unknown\n",
      "Unknown\n",
      "Unknown\n",
      "Unknown\n",
      "Unknown\n",
      "Unknown\n",
      "Unknown\n",
      "Unknown\n",
      "Unknown\n",
      "Unknown\n",
      "Unknown\n",
      "Unknown\n",
      "Unknown\n",
      "Unknown\n",
      "Unknown\n",
      "Unknown\n",
      "Unknown\n",
      "Unknown\n",
      "Unknown\n",
      "Unknown\n",
      "Unknown\n",
      "Unknown\n",
      "Unknown\n",
      "Unknown\n",
      "Unknown\n",
      "Unknown\n",
      "Unknown\n",
      "Unknown\n",
      "Unknown\n",
      "Unknown\n",
      "Unknown\n",
      "Unknown\n",
      "Unknown\n",
      "Unknown\n",
      "Unknown\n",
      "Unknown\n",
      "Unknown\n",
      "Unknown\n",
      "Unknown\n",
      "Unknown\n",
      "Unknown\n",
      "Unknown\n",
      "Unknown\n",
      "Unknown\n",
      "Unknown\n",
      "Unknown\n",
      "Unknown\n",
      "nan\n",
      "Unknown\n",
      "Unknown\n",
      "Unknown\n",
      "Unknown\n",
      "Unknown\n",
      "Unknown\n",
      "Unknown\n",
      "Unknown\n",
      "Unknown\n",
      "Unknown\n",
      "Unknown\n",
      "nan\n",
      "Unknown\n",
      "Unknown\n",
      "Unknown\n",
      "Unknown\n",
      "Unknown\n",
      "Unknown\n",
      "Unknown\n",
      "Unknown\n",
      "Unknown\n",
      "Unknown\n",
      "Unknown\n",
      "Unknown\n",
      "Unknown\n",
      "Unknown\n",
      "Unknown\n",
      "Unknown\n",
      "Unknown\n",
      "Unknown\n",
      "Unknown\n",
      "Unknown\n",
      "Unknown\n",
      "Unknown\n",
      "Unknown\n",
      "Unknown\n",
      "Unknown\n",
      "Unknown\n",
      "Unknown\n",
      "Unknown\n",
      "Unknown\n",
      "Unknown\n",
      "Unknown\n",
      "Unknown\n",
      "Unknown\n",
      "Unknown\n",
      "Unknown\n",
      "Unknown\n",
      "Unknown\n",
      "Unknown\n",
      "Unknown\n",
      "Unknown\n",
      "Unknown\n",
      "Unknown\n",
      "Unknown\n",
      "Unknown\n",
      "Unknown\n",
      "Unknown\n",
      "Unknown\n",
      "Unknown\n",
      "Unknown\n",
      "Unknown\n",
      "Unknown\n",
      "Unknown\n",
      "Unknown\n",
      "Unknown\n",
      "Unknown\n",
      "Unknown\n",
      "Unknown\n",
      "Unknown\n",
      "Unknown\n",
      "Unknown\n",
      "Unknown\n",
      "Unknown\n",
      "Unknown\n",
      "Unknown\n",
      "Unknown\n",
      "Unknown\n",
      "Unknown\n",
      "Unknown\n",
      "Unknown\n",
      "Unknown\n",
      "Unknown\n",
      "Unknown\n",
      "Unknown\n",
      "Unknown\n",
      "Unknown\n",
      "Unknown\n",
      "Unknown\n",
      "Unknown\n",
      "Unknown\n",
      "Unknown\n",
      "Unknown\n",
      "Unknown\n",
      "Unknown\n",
      "Unknown\n",
      "Unknown\n",
      "Unknown\n",
      "Unknown\n",
      "Unknown\n",
      "Unknown\n",
      "Unknown\n",
      "Unknown\n",
      "Unknown\n",
      "Unknown\n",
      "Unknown\n",
      "Unknown\n",
      "Unknown\n",
      "Unknown\n",
      "Unknown\n",
      "Unknown\n",
      "Unknown\n",
      "nan\n"
     ]
    }
   ],
   "source": [
    "from dateutil import parser\n",
    "\n",
    "meta_dts = []\n",
    "\n",
    "for item in list(meta_table['Date']):\n",
    "    try: meta_dts.append(parser.parse(item))\n",
    "    except: print(item)"
   ]
  },
  {
   "cell_type": "code",
   "execution_count": 14,
   "metadata": {},
   "outputs": [
    {
     "data": {
      "text/plain": [
       "3070"
      ]
     },
     "execution_count": 14,
     "metadata": {},
     "output_type": "execute_result"
    }
   ],
   "source": [
    "len(meta_dts)"
   ]
  },
  {
   "cell_type": "code",
   "execution_count": 15,
   "metadata": {},
   "outputs": [
    {
     "name": "stdout",
     "output_type": "stream",
     "text": [
      "01 1967 08 \n",
      "01 1967 08 \n",
      "1968 01 68 \n",
      "01 1967 11 \n",
      "01 1967 09 \n",
      "01 1967 07 \n"
     ]
    }
   ],
   "source": [
    "file_dts = []\n",
    "\n",
    "for filename in filenames:\n",
    "    tempname = filename.replace('_', ' ')\n",
    "    newname = ''\n",
    "    for item in tempname.split(' ')[:3]:\n",
    "        if item.isdigit():\n",
    "            newname+=item\n",
    "            newname+=' '\n",
    "        else: break\n",
    "    if len(newname.strip().split(' ')) == 3:\n",
    "        try:\n",
    "            file_dts.append(parser.parse(newname))\n",
    "        except:\n",
    "            print(newname)"
   ]
  },
  {
   "cell_type": "code",
   "execution_count": 16,
   "metadata": {},
   "outputs": [
    {
     "data": {
      "text/plain": [
       "datetime.datetime(1973, 12, 13, 0, 0)"
      ]
     },
     "execution_count": 16,
     "metadata": {},
     "output_type": "execute_result"
    }
   ],
   "source": [
    "parser.parse('1973 12 13 ')"
   ]
  },
  {
   "cell_type": "code",
   "execution_count": 17,
   "metadata": {},
   "outputs": [
    {
     "data": {
      "text/plain": [
       "685"
      ]
     },
     "execution_count": 17,
     "metadata": {},
     "output_type": "execute_result"
    }
   ],
   "source": [
    "len(set(meta_dts).intersection(set(file_dts)))"
   ]
  },
  {
   "cell_type": "code",
   "execution_count": 18,
   "metadata": {},
   "outputs": [
    {
     "name": "stdout",
     "output_type": "stream",
     "text": [
      "01 1967 08 \n",
      "01 1967 08 \n",
      "1968 01 68 \n",
      "01 1967 11 \n",
      "01 1967 09 \n",
      "01 1967 07 \n"
     ]
    }
   ],
   "source": [
    "file_dt_dict = {}\n",
    "\n",
    "for filename in filenames:\n",
    "    tempname = filename.replace('_', ' ').replace('-', ' ')\n",
    "    newname = ''\n",
    "    for item in tempname.split(' ')[:3]:\n",
    "        if item.isdigit():\n",
    "            newname+=item\n",
    "            newname+=' '\n",
    "        else: break\n",
    "    if len(newname.strip().split(' ')) == 3:\n",
    "        try:\n",
    "            file_dt_dict[parser.parse(newname)] = filename\n",
    "        except:\n",
    "            print(newname)"
   ]
  },
  {
   "cell_type": "code",
   "execution_count": 19,
   "metadata": {
    "collapsed": true
   },
   "outputs": [],
   "source": [
    "from dateutil import parser\n",
    "\n",
    "meta_dts_all = []\n",
    "\n",
    "for item in list(meta_table['Date']):\n",
    "    try: meta_dts_all.append(file_dt_dict[parser.parse(item)])\n",
    "    except: meta_dts_all.append('')"
   ]
  },
  {
   "cell_type": "code",
   "execution_count": 20,
   "metadata": {},
   "outputs": [
    {
     "data": {
      "text/plain": [
       "['',\n",
       " '1953-01-23_030 Radio KYW.mp3',\n",
       " '1953-01-24_030 KYW.mp3',\n",
       " '1956-09-09_500_No_Time_For_Heros.mp3',\n",
       " '',\n",
       " '1957-06-16_010_Granite_Knee.mp3',\n",
       " '',\n",
       " '',\n",
       " '',\n",
       " '',\n",
       " '',\n",
       " '',\n",
       " '',\n",
       " '',\n",
       " '',\n",
       " '',\n",
       " '',\n",
       " '',\n",
       " '',\n",
       " '',\n",
       " '',\n",
       " '',\n",
       " '',\n",
       " '',\n",
       " '',\n",
       " '',\n",
       " '',\n",
       " '',\n",
       " '',\n",
       " '',\n",
       " '',\n",
       " '',\n",
       " '',\n",
       " '',\n",
       " '',\n",
       " '',\n",
       " '',\n",
       " '',\n",
       " '',\n",
       " '',\n",
       " '',\n",
       " '',\n",
       " '',\n",
       " '',\n",
       " '',\n",
       " '',\n",
       " '',\n",
       " '',\n",
       " '',\n",
       " '']"
      ]
     },
     "execution_count": 20,
     "metadata": {},
     "output_type": "execute_result"
    }
   ],
   "source": [
    "meta_dts_all[:50]"
   ]
  },
  {
   "cell_type": "code",
   "execution_count": 21,
   "metadata": {
    "collapsed": true
   },
   "outputs": [],
   "source": [
    "meta_table['Filename'] = meta_dts_all"
   ]
  },
  {
   "cell_type": "code",
   "execution_count": 22,
   "metadata": {
    "collapsed": true
   },
   "outputs": [],
   "source": [
    "meta_table.to_csv('Shows_with_filenames.csv', index=False, encoding='utf-8')"
   ]
  },
  {
   "cell_type": "code",
   "execution_count": null,
   "metadata": {
    "collapsed": true
   },
   "outputs": [],
   "source": []
  }
 ],
 "metadata": {
  "kernelspec": {
   "display_name": "Python 2",
   "language": "python",
   "name": "python2"
  },
  "language_info": {
   "codemirror_mode": {
    "name": "ipython",
    "version": 2
   },
   "file_extension": ".py",
   "mimetype": "text/x-python",
   "name": "python",
   "nbconvert_exporter": "python",
   "pygments_lexer": "ipython2",
   "version": "2.7.6"
  }
 },
 "nbformat": 4,
 "nbformat_minor": 2
}
